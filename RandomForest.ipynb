{
  "nbformat": 4,
  "nbformat_minor": 0,
  "metadata": {
    "colab": {
      "provenance": []
    },
    "kernelspec": {
      "name": "python3",
      "display_name": "Python 3"
    },
    "language_info": {
      "name": "python"
    }
  },
  "cells": [
    {
      "cell_type": "markdown",
      "source": [
        "# Random Forest Implementation\n"
      ],
      "metadata": {
        "id": "5-9K6ZnJxRHP"
      }
    },
    {
      "cell_type": "markdown",
      "source": [
        "## 1. Install Dependencies"
      ],
      "metadata": {
        "id": "o2bSEnUKxghV"
      }
    },
    {
      "cell_type": "code",
      "execution_count": 1,
      "metadata": {
        "colab": {
          "base_uri": "https://localhost:8080/"
        },
        "id": "FOZNCN58xPPU",
        "outputId": "412cb2e7-8012-468b-ad6e-8a8aa060e215"
      },
      "outputs": [
        {
          "output_type": "stream",
          "name": "stdout",
          "text": [
            "Collecting mlcroissant\n",
            "  Downloading mlcroissant-1.0.17-py2.py3-none-any.whl.metadata (10 kB)\n",
            "Requirement already satisfied: absl-py in /usr/local/lib/python3.11/dist-packages (from mlcroissant) (1.4.0)\n",
            "Requirement already satisfied: etils>=1.7.0 in /usr/local/lib/python3.11/dist-packages (from etils[epath]>=1.7.0->mlcroissant) (1.12.2)\n",
            "Collecting jsonpath-rw (from mlcroissant)\n",
            "  Downloading jsonpath-rw-1.4.0.tar.gz (13 kB)\n",
            "  Preparing metadata (setup.py) ... \u001b[?25l\u001b[?25hdone\n",
            "Requirement already satisfied: networkx in /usr/local/lib/python3.11/dist-packages (from mlcroissant) (3.4.2)\n",
            "Requirement already satisfied: pandas in /usr/local/lib/python3.11/dist-packages (from mlcroissant) (2.2.2)\n",
            "Requirement already satisfied: pandas-stubs in /usr/local/lib/python3.11/dist-packages (from mlcroissant) (2.2.2.240909)\n",
            "Requirement already satisfied: python-dateutil in /usr/local/lib/python3.11/dist-packages (from mlcroissant) (2.8.2)\n",
            "Collecting rdflib (from mlcroissant)\n",
            "  Downloading rdflib-7.1.4-py3-none-any.whl.metadata (11 kB)\n",
            "Requirement already satisfied: requests in /usr/local/lib/python3.11/dist-packages (from mlcroissant) (2.32.3)\n",
            "Requirement already satisfied: scipy in /usr/local/lib/python3.11/dist-packages (from mlcroissant) (1.14.1)\n",
            "Requirement already satisfied: tqdm in /usr/local/lib/python3.11/dist-packages (from mlcroissant) (4.67.1)\n",
            "Requirement already satisfied: fsspec in /usr/local/lib/python3.11/dist-packages (from etils[epath]>=1.7.0->mlcroissant) (2025.3.2)\n",
            "Requirement already satisfied: importlib_resources in /usr/local/lib/python3.11/dist-packages (from etils[epath]>=1.7.0->mlcroissant) (6.5.2)\n",
            "Requirement already satisfied: typing_extensions in /usr/local/lib/python3.11/dist-packages (from etils[epath]>=1.7.0->mlcroissant) (4.13.2)\n",
            "Requirement already satisfied: zipp in /usr/local/lib/python3.11/dist-packages (from etils[epath]>=1.7.0->mlcroissant) (3.21.0)\n",
            "Requirement already satisfied: ply in /usr/local/lib/python3.11/dist-packages (from jsonpath-rw->mlcroissant) (3.11)\n",
            "Requirement already satisfied: decorator in /usr/local/lib/python3.11/dist-packages (from jsonpath-rw->mlcroissant) (4.4.2)\n",
            "Requirement already satisfied: six in /usr/local/lib/python3.11/dist-packages (from jsonpath-rw->mlcroissant) (1.17.0)\n",
            "Requirement already satisfied: numpy>=1.23.2 in /usr/local/lib/python3.11/dist-packages (from pandas->mlcroissant) (2.0.2)\n",
            "Requirement already satisfied: pytz>=2020.1 in /usr/local/lib/python3.11/dist-packages (from pandas->mlcroissant) (2025.2)\n",
            "Requirement already satisfied: tzdata>=2022.7 in /usr/local/lib/python3.11/dist-packages (from pandas->mlcroissant) (2025.2)\n",
            "Requirement already satisfied: types-pytz>=2022.1.1 in /usr/local/lib/python3.11/dist-packages (from pandas-stubs->mlcroissant) (2025.2.0.20250326)\n",
            "Requirement already satisfied: pyparsing<4,>=2.1.0 in /usr/local/lib/python3.11/dist-packages (from rdflib->mlcroissant) (3.2.3)\n",
            "Requirement already satisfied: charset-normalizer<4,>=2 in /usr/local/lib/python3.11/dist-packages (from requests->mlcroissant) (3.4.1)\n",
            "Requirement already satisfied: idna<4,>=2.5 in /usr/local/lib/python3.11/dist-packages (from requests->mlcroissant) (3.10)\n",
            "Requirement already satisfied: urllib3<3,>=1.21.1 in /usr/local/lib/python3.11/dist-packages (from requests->mlcroissant) (2.3.0)\n",
            "Requirement already satisfied: certifi>=2017.4.17 in /usr/local/lib/python3.11/dist-packages (from requests->mlcroissant) (2025.1.31)\n",
            "Downloading mlcroissant-1.0.17-py2.py3-none-any.whl (141 kB)\n",
            "\u001b[2K   \u001b[90m━━━━━━━━━━━━━━━━━━━━━━━━━━━━━━━━━━━━━━━━\u001b[0m \u001b[32m141.4/141.4 kB\u001b[0m \u001b[31m3.4 MB/s\u001b[0m eta \u001b[36m0:00:00\u001b[0m\n",
            "\u001b[?25hDownloading rdflib-7.1.4-py3-none-any.whl (565 kB)\n",
            "\u001b[2K   \u001b[90m━━━━━━━━━━━━━━━━━━━━━━━━━━━━━━━━━━━━━━━━\u001b[0m \u001b[32m565.1/565.1 kB\u001b[0m \u001b[31m13.5 MB/s\u001b[0m eta \u001b[36m0:00:00\u001b[0m\n",
            "\u001b[?25hBuilding wheels for collected packages: jsonpath-rw\n",
            "  Building wheel for jsonpath-rw (setup.py) ... \u001b[?25l\u001b[?25hdone\n",
            "  Created wheel for jsonpath-rw: filename=jsonpath_rw-1.4.0-py3-none-any.whl size=15127 sha256=af194e627264cb86fcaad0c013d420e6f7172d792a088a4b7341df409a785086\n",
            "  Stored in directory: /root/.cache/pip/wheels/53/cf/51/a4ea10224b7fdb523e18e2033cadf2a8657517d1f95f3f5413\n",
            "Successfully built jsonpath-rw\n",
            "Installing collected packages: rdflib, jsonpath-rw, mlcroissant\n",
            "Successfully installed jsonpath-rw-1.4.0 mlcroissant-1.0.17 rdflib-7.1.4\n"
          ]
        }
      ],
      "source": [
        "!pip install mlcroissant"
      ]
    },
    {
      "cell_type": "markdown",
      "source": [
        "## 2. Import Dependencies"
      ],
      "metadata": {
        "id": "14Y8z8qVxuhO"
      }
    },
    {
      "cell_type": "code",
      "source": [
        "import pandas as pd\n",
        "import os\n",
        "import numpy as np\n",
        "from sklearn.preprocessing import LabelEncoder\n",
        "from sklearn.preprocessing import StandardScaler\n",
        "from sklearn.model_selection import train_test_split\n",
        "import seaborn as sns\n",
        "import matplotlib.pyplot as plt\n",
        "from sklearn.metrics import accuracy_score, precision_score, recall_score, f1_score, confusion_matrix, roc_curve, auc, precision_recall_curve\n",
        "from sklearn.preprocessing import MinMaxScaler, StandardScaler\n",
        "from sklearn.ensemble import RandomForestClassifier\n",
        "import mlcroissant as mlc\n",
        "import itertools\n",
        "from sklearn.calibration import calibration_curve\n",
        "import joblib"
      ],
      "metadata": {
        "id": "bKWb686JxuDg"
      },
      "execution_count": 17,
      "outputs": []
    },
    {
      "cell_type": "markdown",
      "source": [
        "## 3. Download Dataset"
      ],
      "metadata": {
        "id": "3_N6BMUByQ1y"
      }
    },
    {
      "cell_type": "code",
      "source": [
        "croissant_dataset = mlc.Dataset('https://www.kaggle.com/datasets/katehighnam/beth-dataset/croissant/download')"
      ],
      "metadata": {
        "colab": {
          "base_uri": "https://localhost:8080/"
        },
        "id": "RYDuv7bCyS4_",
        "outputId": "ce6af142-b855-4f46-a5b1-e43b71eb633a"
      },
      "execution_count": 3,
      "outputs": [
        {
          "output_type": "stream",
          "name": "stderr",
          "text": [
            "WARNING:absl:WARNING: The JSON-LD `@context` is not standard. Refer to the official @context (e.g., from the example datasets in https://github.com/mlcommons/croissant/tree/main/datasets/1.0). The different keys are: {'isLiveDataset', 'examples', 'rai'}\n",
            "WARNING:absl:Found the following 1 warning(s) during the validation:\n",
            "  -  [Metadata(BETH Dataset)] Property \"http://mlcommons.org/croissant/citeAs\" is recommended, but does not exist.\n"
          ]
        }
      ]
    },
    {
      "cell_type": "markdown",
      "source": [
        "## 4. Display and Retrieve Metadata"
      ],
      "metadata": {
        "id": "AbCPmRGZyXSP"
      }
    },
    {
      "cell_type": "code",
      "source": [
        "record_sets = croissant_dataset.metadata.record_sets\n",
        "for record in record_sets:\n",
        "    print(record)"
      ],
      "metadata": {
        "colab": {
          "base_uri": "https://localhost:8080/"
        },
        "id": "CwDKCXvUybmT",
        "outputId": "a1575e69-812c-4e3e-b653-71040232c0e1"
      },
      "execution_count": 4,
      "outputs": [
        {
          "output_type": "stream",
          "name": "stdout",
          "text": [
            "RecordSet(uuid=\"labelled_2021may-ip-10-100-1-105-dns.csv\")\n",
            "RecordSet(uuid=\"labelled_2021may-ip-10-100-1-105.csv\")\n",
            "RecordSet(uuid=\"labelled_2021may-ip-10-100-1-186-dns.csv\")\n",
            "RecordSet(uuid=\"labelled_2021may-ip-10-100-1-186.csv\")\n",
            "RecordSet(uuid=\"labelled_2021may-ip-10-100-1-26-dns.csv\")\n",
            "RecordSet(uuid=\"labelled_2021may-ip-10-100-1-26.csv\")\n",
            "RecordSet(uuid=\"labelled_2021may-ip-10-100-1-4-dns.csv\")\n",
            "RecordSet(uuid=\"labelled_2021may-ip-10-100-1-4.csv\")\n",
            "RecordSet(uuid=\"labelled_2021may-ip-10-100-1-95-dns.csv\")\n",
            "RecordSet(uuid=\"labelled_2021may-ip-10-100-1-95.csv\")\n",
            "RecordSet(uuid=\"labelled_2021may-ubuntu-dns.csv\")\n",
            "RecordSet(uuid=\"labelled_2021may-ubuntu.csv\")\n",
            "RecordSet(uuid=\"labelled_testing_data.csv\")\n",
            "RecordSet(uuid=\"labelled_training_data.csv\")\n",
            "RecordSet(uuid=\"labelled_validation_data.csv\")\n"
          ]
        }
      ]
    },
    {
      "cell_type": "markdown",
      "source": [
        "Extract the first record set and convert to a DataFrame"
      ],
      "metadata": {
        "id": "Jg_38b7dygT7"
      }
    },
    {
      "cell_type": "code",
      "source": [
        "record_set_df = pd.DataFrame(croissant_dataset.records(record_set=record_sets[0].uuid))\n",
        "record_set_df.head()"
      ],
      "metadata": {
        "colab": {
          "base_uri": "https://localhost:8080/",
          "height": 365
        },
        "id": "vw_lfcYGygqI",
        "outputId": "f2ebde7a-b661-432d-dac5-a1d023762120"
      },
      "execution_count": 5,
      "outputs": [
        {
          "output_type": "stream",
          "name": "stderr",
          "text": [
            "Downloading https://www.kaggle.com/api/v1/datasets/download/katehighnam/beth-dataset?datasetVersionNumber=3...: 100%|██████████| 39.8M/39.8M [00:00<00:00, 77.4MiB/s]\n"
          ]
        },
        {
          "output_type": "execute_result",
          "data": {
            "text/plain": [
              "  labelled_2021may-ip-10-100-1-105-dns.csv/Timestamp  \\\n",
              "0                          2021-05-16 17:13:14+00:00   \n",
              "1                          2021-05-16 17:13:14+00:00   \n",
              "2                          2021-05-16 17:13:14+00:00   \n",
              "3                          2021-05-16 17:13:14+00:00   \n",
              "4                          2021-05-16 17:13:16+00:00   \n",
              "\n",
              "  labelled_2021may-ip-10-100-1-105-dns.csv/SourceIP  \\\n",
              "0                                    b'10.100.1.95'   \n",
              "1                                     b'10.100.0.2'   \n",
              "2                                    b'10.100.1.95'   \n",
              "3                                     b'10.100.0.2'   \n",
              "4                                   b'10.100.1.186'   \n",
              "\n",
              "  labelled_2021may-ip-10-100-1-105-dns.csv/DestinationIP  \\\n",
              "0                                      b'10.100.0.2'       \n",
              "1                                     b'10.100.1.95'       \n",
              "2                                      b'10.100.0.2'       \n",
              "3                                     b'10.100.1.95'       \n",
              "4                                      b'10.100.0.2'       \n",
              "\n",
              "  labelled_2021may-ip-10-100-1-105-dns.csv/DnsQuery  \\\n",
              "0                    b'ssm.us-east-2.amazonaws.com'   \n",
              "1                    b'ssm.us-east-2.amazonaws.com'   \n",
              "2                    b'ssm.us-east-2.amazonaws.com'   \n",
              "3                    b'ssm.us-east-2.amazonaws.com'   \n",
              "4                    b'ssm.us-east-2.amazonaws.com'   \n",
              "\n",
              "  labelled_2021may-ip-10-100-1-105-dns.csv/DnsAnswer  \\\n",
              "0                                               None   \n",
              "1                                b\"['52.95.19.240']\"   \n",
              "2                                               None   \n",
              "3                                               None   \n",
              "4                                               None   \n",
              "\n",
              "  labelled_2021may-ip-10-100-1-105-dns.csv/DnsAnswerTTL  \\\n",
              "0                                               None      \n",
              "1                                          b\"['17']\"      \n",
              "2                                               None      \n",
              "3                                               None      \n",
              "4                                               None      \n",
              "\n",
              "  labelled_2021may-ip-10-100-1-105-dns.csv/DnsQueryNames  \\\n",
              "0                     b'ssm.us-east-2.amazonaws.com'       \n",
              "1                     b'ssm.us-east-2.amazonaws.com'       \n",
              "2                     b'ssm.us-east-2.amazonaws.com'       \n",
              "3                     b'ssm.us-east-2.amazonaws.com'       \n",
              "4                     b'ssm.us-east-2.amazonaws.com'       \n",
              "\n",
              "  labelled_2021may-ip-10-100-1-105-dns.csv/DnsQueryClass  \\\n",
              "0                                          b\"['IN']\"       \n",
              "1                                          b\"['IN']\"       \n",
              "2                                          b\"['IN']\"       \n",
              "3                                          b\"['IN']\"       \n",
              "4                                          b\"['IN']\"       \n",
              "\n",
              "  labelled_2021may-ip-10-100-1-105-dns.csv/DnsQueryType  \\\n",
              "0                                           b\"['A']\"      \n",
              "1                                           b\"['A']\"      \n",
              "2                                        b\"['AAAA']\"      \n",
              "3                                        b\"['AAAA']\"      \n",
              "4                                           b\"['A']\"      \n",
              "\n",
              "   labelled_2021may-ip-10-100-1-105-dns.csv/NumberOfAnswers  \\\n",
              "0                                                  0          \n",
              "1                                                  1          \n",
              "2                                                  0          \n",
              "3                                                  0          \n",
              "4                                                  0          \n",
              "\n",
              "   labelled_2021may-ip-10-100-1-105-dns.csv/DnsResponseCode  \\\n",
              "0                                                  0          \n",
              "1                                                  0          \n",
              "2                                                  0          \n",
              "3                                                  0          \n",
              "4                                                  0          \n",
              "\n",
              "   labelled_2021may-ip-10-100-1-105-dns.csv/DnsOpCode  \\\n",
              "0                                                  0    \n",
              "1                                                  0    \n",
              "2                                                  0    \n",
              "3                                                  0    \n",
              "4                                                  0    \n",
              "\n",
              "  labelled_2021may-ip-10-100-1-105-dns.csv/SensorId  \\\n",
              "0                                 b'ip-10-100-1-95'   \n",
              "1                                 b'ip-10-100-1-95'   \n",
              "2                                 b'ip-10-100-1-95'   \n",
              "3                                 b'ip-10-100-1-95'   \n",
              "4                                b'ip-10-100-1-186'   \n",
              "\n",
              "   labelled_2021may-ip-10-100-1-105-dns.csv/sus  \\\n",
              "0                                             0   \n",
              "1                                             0   \n",
              "2                                             0   \n",
              "3                                             0   \n",
              "4                                             0   \n",
              "\n",
              "   labelled_2021may-ip-10-100-1-105-dns.csv/evil  \n",
              "0                                              0  \n",
              "1                                              0  \n",
              "2                                              0  \n",
              "3                                              0  \n",
              "4                                              0  "
            ],
            "text/html": [
              "\n",
              "  <div id=\"df-3b460f6a-f2a6-4db3-a880-2e084d8b1283\" class=\"colab-df-container\">\n",
              "    <div>\n",
              "<style scoped>\n",
              "    .dataframe tbody tr th:only-of-type {\n",
              "        vertical-align: middle;\n",
              "    }\n",
              "\n",
              "    .dataframe tbody tr th {\n",
              "        vertical-align: top;\n",
              "    }\n",
              "\n",
              "    .dataframe thead th {\n",
              "        text-align: right;\n",
              "    }\n",
              "</style>\n",
              "<table border=\"1\" class=\"dataframe\">\n",
              "  <thead>\n",
              "    <tr style=\"text-align: right;\">\n",
              "      <th></th>\n",
              "      <th>labelled_2021may-ip-10-100-1-105-dns.csv/Timestamp</th>\n",
              "      <th>labelled_2021may-ip-10-100-1-105-dns.csv/SourceIP</th>\n",
              "      <th>labelled_2021may-ip-10-100-1-105-dns.csv/DestinationIP</th>\n",
              "      <th>labelled_2021may-ip-10-100-1-105-dns.csv/DnsQuery</th>\n",
              "      <th>labelled_2021may-ip-10-100-1-105-dns.csv/DnsAnswer</th>\n",
              "      <th>labelled_2021may-ip-10-100-1-105-dns.csv/DnsAnswerTTL</th>\n",
              "      <th>labelled_2021may-ip-10-100-1-105-dns.csv/DnsQueryNames</th>\n",
              "      <th>labelled_2021may-ip-10-100-1-105-dns.csv/DnsQueryClass</th>\n",
              "      <th>labelled_2021may-ip-10-100-1-105-dns.csv/DnsQueryType</th>\n",
              "      <th>labelled_2021may-ip-10-100-1-105-dns.csv/NumberOfAnswers</th>\n",
              "      <th>labelled_2021may-ip-10-100-1-105-dns.csv/DnsResponseCode</th>\n",
              "      <th>labelled_2021may-ip-10-100-1-105-dns.csv/DnsOpCode</th>\n",
              "      <th>labelled_2021may-ip-10-100-1-105-dns.csv/SensorId</th>\n",
              "      <th>labelled_2021may-ip-10-100-1-105-dns.csv/sus</th>\n",
              "      <th>labelled_2021may-ip-10-100-1-105-dns.csv/evil</th>\n",
              "    </tr>\n",
              "  </thead>\n",
              "  <tbody>\n",
              "    <tr>\n",
              "      <th>0</th>\n",
              "      <td>2021-05-16 17:13:14+00:00</td>\n",
              "      <td>b'10.100.1.95'</td>\n",
              "      <td>b'10.100.0.2'</td>\n",
              "      <td>b'ssm.us-east-2.amazonaws.com'</td>\n",
              "      <td>None</td>\n",
              "      <td>None</td>\n",
              "      <td>b'ssm.us-east-2.amazonaws.com'</td>\n",
              "      <td>b\"['IN']\"</td>\n",
              "      <td>b\"['A']\"</td>\n",
              "      <td>0</td>\n",
              "      <td>0</td>\n",
              "      <td>0</td>\n",
              "      <td>b'ip-10-100-1-95'</td>\n",
              "      <td>0</td>\n",
              "      <td>0</td>\n",
              "    </tr>\n",
              "    <tr>\n",
              "      <th>1</th>\n",
              "      <td>2021-05-16 17:13:14+00:00</td>\n",
              "      <td>b'10.100.0.2'</td>\n",
              "      <td>b'10.100.1.95'</td>\n",
              "      <td>b'ssm.us-east-2.amazonaws.com'</td>\n",
              "      <td>b\"['52.95.19.240']\"</td>\n",
              "      <td>b\"['17']\"</td>\n",
              "      <td>b'ssm.us-east-2.amazonaws.com'</td>\n",
              "      <td>b\"['IN']\"</td>\n",
              "      <td>b\"['A']\"</td>\n",
              "      <td>1</td>\n",
              "      <td>0</td>\n",
              "      <td>0</td>\n",
              "      <td>b'ip-10-100-1-95'</td>\n",
              "      <td>0</td>\n",
              "      <td>0</td>\n",
              "    </tr>\n",
              "    <tr>\n",
              "      <th>2</th>\n",
              "      <td>2021-05-16 17:13:14+00:00</td>\n",
              "      <td>b'10.100.1.95'</td>\n",
              "      <td>b'10.100.0.2'</td>\n",
              "      <td>b'ssm.us-east-2.amazonaws.com'</td>\n",
              "      <td>None</td>\n",
              "      <td>None</td>\n",
              "      <td>b'ssm.us-east-2.amazonaws.com'</td>\n",
              "      <td>b\"['IN']\"</td>\n",
              "      <td>b\"['AAAA']\"</td>\n",
              "      <td>0</td>\n",
              "      <td>0</td>\n",
              "      <td>0</td>\n",
              "      <td>b'ip-10-100-1-95'</td>\n",
              "      <td>0</td>\n",
              "      <td>0</td>\n",
              "    </tr>\n",
              "    <tr>\n",
              "      <th>3</th>\n",
              "      <td>2021-05-16 17:13:14+00:00</td>\n",
              "      <td>b'10.100.0.2'</td>\n",
              "      <td>b'10.100.1.95'</td>\n",
              "      <td>b'ssm.us-east-2.amazonaws.com'</td>\n",
              "      <td>None</td>\n",
              "      <td>None</td>\n",
              "      <td>b'ssm.us-east-2.amazonaws.com'</td>\n",
              "      <td>b\"['IN']\"</td>\n",
              "      <td>b\"['AAAA']\"</td>\n",
              "      <td>0</td>\n",
              "      <td>0</td>\n",
              "      <td>0</td>\n",
              "      <td>b'ip-10-100-1-95'</td>\n",
              "      <td>0</td>\n",
              "      <td>0</td>\n",
              "    </tr>\n",
              "    <tr>\n",
              "      <th>4</th>\n",
              "      <td>2021-05-16 17:13:16+00:00</td>\n",
              "      <td>b'10.100.1.186'</td>\n",
              "      <td>b'10.100.0.2'</td>\n",
              "      <td>b'ssm.us-east-2.amazonaws.com'</td>\n",
              "      <td>None</td>\n",
              "      <td>None</td>\n",
              "      <td>b'ssm.us-east-2.amazonaws.com'</td>\n",
              "      <td>b\"['IN']\"</td>\n",
              "      <td>b\"['A']\"</td>\n",
              "      <td>0</td>\n",
              "      <td>0</td>\n",
              "      <td>0</td>\n",
              "      <td>b'ip-10-100-1-186'</td>\n",
              "      <td>0</td>\n",
              "      <td>0</td>\n",
              "    </tr>\n",
              "  </tbody>\n",
              "</table>\n",
              "</div>\n",
              "    <div class=\"colab-df-buttons\">\n",
              "\n",
              "  <div class=\"colab-df-container\">\n",
              "    <button class=\"colab-df-convert\" onclick=\"convertToInteractive('df-3b460f6a-f2a6-4db3-a880-2e084d8b1283')\"\n",
              "            title=\"Convert this dataframe to an interactive table.\"\n",
              "            style=\"display:none;\">\n",
              "\n",
              "  <svg xmlns=\"http://www.w3.org/2000/svg\" height=\"24px\" viewBox=\"0 -960 960 960\">\n",
              "    <path d=\"M120-120v-720h720v720H120Zm60-500h600v-160H180v160Zm220 220h160v-160H400v160Zm0 220h160v-160H400v160ZM180-400h160v-160H180v160Zm440 0h160v-160H620v160ZM180-180h160v-160H180v160Zm440 0h160v-160H620v160Z\"/>\n",
              "  </svg>\n",
              "    </button>\n",
              "\n",
              "  <style>\n",
              "    .colab-df-container {\n",
              "      display:flex;\n",
              "      gap: 12px;\n",
              "    }\n",
              "\n",
              "    .colab-df-convert {\n",
              "      background-color: #E8F0FE;\n",
              "      border: none;\n",
              "      border-radius: 50%;\n",
              "      cursor: pointer;\n",
              "      display: none;\n",
              "      fill: #1967D2;\n",
              "      height: 32px;\n",
              "      padding: 0 0 0 0;\n",
              "      width: 32px;\n",
              "    }\n",
              "\n",
              "    .colab-df-convert:hover {\n",
              "      background-color: #E2EBFA;\n",
              "      box-shadow: 0px 1px 2px rgba(60, 64, 67, 0.3), 0px 1px 3px 1px rgba(60, 64, 67, 0.15);\n",
              "      fill: #174EA6;\n",
              "    }\n",
              "\n",
              "    .colab-df-buttons div {\n",
              "      margin-bottom: 4px;\n",
              "    }\n",
              "\n",
              "    [theme=dark] .colab-df-convert {\n",
              "      background-color: #3B4455;\n",
              "      fill: #D2E3FC;\n",
              "    }\n",
              "\n",
              "    [theme=dark] .colab-df-convert:hover {\n",
              "      background-color: #434B5C;\n",
              "      box-shadow: 0px 1px 3px 1px rgba(0, 0, 0, 0.15);\n",
              "      filter: drop-shadow(0px 1px 2px rgba(0, 0, 0, 0.3));\n",
              "      fill: #FFFFFF;\n",
              "    }\n",
              "  </style>\n",
              "\n",
              "    <script>\n",
              "      const buttonEl =\n",
              "        document.querySelector('#df-3b460f6a-f2a6-4db3-a880-2e084d8b1283 button.colab-df-convert');\n",
              "      buttonEl.style.display =\n",
              "        google.colab.kernel.accessAllowed ? 'block' : 'none';\n",
              "\n",
              "      async function convertToInteractive(key) {\n",
              "        const element = document.querySelector('#df-3b460f6a-f2a6-4db3-a880-2e084d8b1283');\n",
              "        const dataTable =\n",
              "          await google.colab.kernel.invokeFunction('convertToInteractive',\n",
              "                                                    [key], {});\n",
              "        if (!dataTable) return;\n",
              "\n",
              "        const docLinkHtml = 'Like what you see? Visit the ' +\n",
              "          '<a target=\"_blank\" href=https://colab.research.google.com/notebooks/data_table.ipynb>data table notebook</a>'\n",
              "          + ' to learn more about interactive tables.';\n",
              "        element.innerHTML = '';\n",
              "        dataTable['output_type'] = 'display_data';\n",
              "        await google.colab.output.renderOutput(dataTable, element);\n",
              "        const docLink = document.createElement('div');\n",
              "        docLink.innerHTML = docLinkHtml;\n",
              "        element.appendChild(docLink);\n",
              "      }\n",
              "    </script>\n",
              "  </div>\n",
              "\n",
              "\n",
              "<div id=\"df-33180d3c-2220-4bc3-90f7-5f5da6ee411f\">\n",
              "  <button class=\"colab-df-quickchart\" onclick=\"quickchart('df-33180d3c-2220-4bc3-90f7-5f5da6ee411f')\"\n",
              "            title=\"Suggest charts\"\n",
              "            style=\"display:none;\">\n",
              "\n",
              "<svg xmlns=\"http://www.w3.org/2000/svg\" height=\"24px\"viewBox=\"0 0 24 24\"\n",
              "     width=\"24px\">\n",
              "    <g>\n",
              "        <path d=\"M19 3H5c-1.1 0-2 .9-2 2v14c0 1.1.9 2 2 2h14c1.1 0 2-.9 2-2V5c0-1.1-.9-2-2-2zM9 17H7v-7h2v7zm4 0h-2V7h2v10zm4 0h-2v-4h2v4z\"/>\n",
              "    </g>\n",
              "</svg>\n",
              "  </button>\n",
              "\n",
              "<style>\n",
              "  .colab-df-quickchart {\n",
              "      --bg-color: #E8F0FE;\n",
              "      --fill-color: #1967D2;\n",
              "      --hover-bg-color: #E2EBFA;\n",
              "      --hover-fill-color: #174EA6;\n",
              "      --disabled-fill-color: #AAA;\n",
              "      --disabled-bg-color: #DDD;\n",
              "  }\n",
              "\n",
              "  [theme=dark] .colab-df-quickchart {\n",
              "      --bg-color: #3B4455;\n",
              "      --fill-color: #D2E3FC;\n",
              "      --hover-bg-color: #434B5C;\n",
              "      --hover-fill-color: #FFFFFF;\n",
              "      --disabled-bg-color: #3B4455;\n",
              "      --disabled-fill-color: #666;\n",
              "  }\n",
              "\n",
              "  .colab-df-quickchart {\n",
              "    background-color: var(--bg-color);\n",
              "    border: none;\n",
              "    border-radius: 50%;\n",
              "    cursor: pointer;\n",
              "    display: none;\n",
              "    fill: var(--fill-color);\n",
              "    height: 32px;\n",
              "    padding: 0;\n",
              "    width: 32px;\n",
              "  }\n",
              "\n",
              "  .colab-df-quickchart:hover {\n",
              "    background-color: var(--hover-bg-color);\n",
              "    box-shadow: 0 1px 2px rgba(60, 64, 67, 0.3), 0 1px 3px 1px rgba(60, 64, 67, 0.15);\n",
              "    fill: var(--button-hover-fill-color);\n",
              "  }\n",
              "\n",
              "  .colab-df-quickchart-complete:disabled,\n",
              "  .colab-df-quickchart-complete:disabled:hover {\n",
              "    background-color: var(--disabled-bg-color);\n",
              "    fill: var(--disabled-fill-color);\n",
              "    box-shadow: none;\n",
              "  }\n",
              "\n",
              "  .colab-df-spinner {\n",
              "    border: 2px solid var(--fill-color);\n",
              "    border-color: transparent;\n",
              "    border-bottom-color: var(--fill-color);\n",
              "    animation:\n",
              "      spin 1s steps(1) infinite;\n",
              "  }\n",
              "\n",
              "  @keyframes spin {\n",
              "    0% {\n",
              "      border-color: transparent;\n",
              "      border-bottom-color: var(--fill-color);\n",
              "      border-left-color: var(--fill-color);\n",
              "    }\n",
              "    20% {\n",
              "      border-color: transparent;\n",
              "      border-left-color: var(--fill-color);\n",
              "      border-top-color: var(--fill-color);\n",
              "    }\n",
              "    30% {\n",
              "      border-color: transparent;\n",
              "      border-left-color: var(--fill-color);\n",
              "      border-top-color: var(--fill-color);\n",
              "      border-right-color: var(--fill-color);\n",
              "    }\n",
              "    40% {\n",
              "      border-color: transparent;\n",
              "      border-right-color: var(--fill-color);\n",
              "      border-top-color: var(--fill-color);\n",
              "    }\n",
              "    60% {\n",
              "      border-color: transparent;\n",
              "      border-right-color: var(--fill-color);\n",
              "    }\n",
              "    80% {\n",
              "      border-color: transparent;\n",
              "      border-right-color: var(--fill-color);\n",
              "      border-bottom-color: var(--fill-color);\n",
              "    }\n",
              "    90% {\n",
              "      border-color: transparent;\n",
              "      border-bottom-color: var(--fill-color);\n",
              "    }\n",
              "  }\n",
              "</style>\n",
              "\n",
              "  <script>\n",
              "    async function quickchart(key) {\n",
              "      const quickchartButtonEl =\n",
              "        document.querySelector('#' + key + ' button');\n",
              "      quickchartButtonEl.disabled = true;  // To prevent multiple clicks.\n",
              "      quickchartButtonEl.classList.add('colab-df-spinner');\n",
              "      try {\n",
              "        const charts = await google.colab.kernel.invokeFunction(\n",
              "            'suggestCharts', [key], {});\n",
              "      } catch (error) {\n",
              "        console.error('Error during call to suggestCharts:', error);\n",
              "      }\n",
              "      quickchartButtonEl.classList.remove('colab-df-spinner');\n",
              "      quickchartButtonEl.classList.add('colab-df-quickchart-complete');\n",
              "    }\n",
              "    (() => {\n",
              "      let quickchartButtonEl =\n",
              "        document.querySelector('#df-33180d3c-2220-4bc3-90f7-5f5da6ee411f button');\n",
              "      quickchartButtonEl.style.display =\n",
              "        google.colab.kernel.accessAllowed ? 'block' : 'none';\n",
              "    })();\n",
              "  </script>\n",
              "</div>\n",
              "\n",
              "    </div>\n",
              "  </div>\n"
            ],
            "application/vnd.google.colaboratory.intrinsic+json": {
              "type": "dataframe",
              "variable_name": "record_set_df",
              "summary": "{\n  \"name\": \"record_set_df\",\n  \"rows\": 269,\n  \"fields\": [\n    {\n      \"column\": \"labelled_2021may-ip-10-100-1-105-dns.csv/Timestamp\",\n      \"properties\": {\n        \"dtype\": \"date\",\n        \"min\": \"2021-05-16 17:13:14+00:00\",\n        \"max\": \"2021-05-16 21:43:21+00:00\",\n        \"num_unique_values\": 61,\n        \"samples\": [\n          \"2021-05-16 17:13:14+00:00\",\n          \"2021-05-16 17:23:16+00:00\",\n          \"2021-05-16 20:03:20+00:00\"\n        ],\n        \"semantic_type\": \"\",\n        \"description\": \"\"\n      }\n    },\n    {\n      \"column\": \"labelled_2021may-ip-10-100-1-105-dns.csv/SourceIP\",\n      \"properties\": {\n        \"dtype\": \"category\",\n        \"num_unique_values\": 15,\n        \"samples\": [\n          \"b'209.17.97.122'\",\n          \"b'209.17.97.58'\",\n          \"b'10.100.1.95'\"\n        ],\n        \"semantic_type\": \"\",\n        \"description\": \"\"\n      }\n    },\n    {\n      \"column\": \"labelled_2021may-ip-10-100-1-105-dns.csv/DestinationIP\",\n      \"properties\": {\n        \"dtype\": \"category\",\n        \"num_unique_values\": 6,\n        \"samples\": [\n          \"b'10.100.0.2'\",\n          \"b'10.100.1.95'\",\n          \"b'10.100.1.4'\"\n        ],\n        \"semantic_type\": \"\",\n        \"description\": \"\"\n      }\n    },\n    {\n      \"column\": \"labelled_2021may-ip-10-100-1-105-dns.csv/DnsQuery\",\n      \"properties\": {\n        \"dtype\": \"category\",\n        \"num_unique_values\": 16,\n        \"samples\": [\n          \"b'ssm.us-east-2.amazonaws.com'\",\n          \"b'researchscan541.eecs.umich.edu'\",\n          \"b'c.afekv.com'\"\n        ],\n        \"semantic_type\": \"\",\n        \"description\": \"\"\n      }\n    },\n    {\n      \"column\": \"labelled_2021may-ip-10-100-1-105-dns.csv/DnsAnswer\",\n      \"properties\": {\n        \"dtype\": \"category\",\n        \"num_unique_values\": 11,\n        \"samples\": [\n          \"b\\\"['131.153.142.106', '131.153.56.98']\\\"\",\n          \"b\\\"['52.95.19.240']\\\"\",\n          \"b\\\"['2001:67c:1562::18', '2001:67c:1562::15']\\\"\"\n        ],\n        \"semantic_type\": \"\",\n        \"description\": \"\"\n      }\n    },\n    {\n      \"column\": \"labelled_2021may-ip-10-100-1-105-dns.csv/DnsAnswerTTL\",\n      \"properties\": {\n        \"dtype\": \"category\",\n        \"num_unique_values\": 43,\n        \"samples\": [\n          \"b\\\"['210', '210']\\\"\",\n          \"b\\\"['5']\\\"\",\n          \"b\\\"['7']\\\"\"\n        ],\n        \"semantic_type\": \"\",\n        \"description\": \"\"\n      }\n    },\n    {\n      \"column\": \"labelled_2021may-ip-10-100-1-105-dns.csv/DnsQueryNames\",\n      \"properties\": {\n        \"dtype\": \"category\",\n        \"num_unique_values\": 16,\n        \"samples\": [\n          \"b'ssm.us-east-2.amazonaws.com'\",\n          \"b'researchscan541.eecs.umich.edu'\",\n          \"b'c.afekv.com'\"\n        ],\n        \"semantic_type\": \"\",\n        \"description\": \"\"\n      }\n    },\n    {\n      \"column\": \"labelled_2021may-ip-10-100-1-105-dns.csv/DnsQueryClass\",\n      \"properties\": {\n        \"dtype\": \"category\",\n        \"num_unique_values\": 2,\n        \"samples\": [\n          \"b\\\"['CH']\\\"\",\n          \"b\\\"['IN']\\\"\"\n        ],\n        \"semantic_type\": \"\",\n        \"description\": \"\"\n      }\n    },\n    {\n      \"column\": \"labelled_2021may-ip-10-100-1-105-dns.csv/DnsQueryType\",\n      \"properties\": {\n        \"dtype\": \"category\",\n        \"num_unique_values\": 6,\n        \"samples\": [\n          \"b\\\"['A']\\\"\",\n          \"b\\\"['AAAA']\\\"\"\n        ],\n        \"semantic_type\": \"\",\n        \"description\": \"\"\n      }\n    },\n    {\n      \"column\": \"labelled_2021may-ip-10-100-1-105-dns.csv/NumberOfAnswers\",\n      \"properties\": {\n        \"dtype\": \"number\",\n        \"std\": 0,\n        \"min\": 0,\n        \"max\": 8,\n        \"num_unique_values\": 6,\n        \"samples\": [\n          0,\n          1\n        ],\n        \"semantic_type\": \"\",\n        \"description\": \"\"\n      }\n    },\n    {\n      \"column\": \"labelled_2021may-ip-10-100-1-105-dns.csv/DnsResponseCode\",\n      \"properties\": {\n        \"dtype\": \"number\",\n        \"std\": 0,\n        \"min\": 0,\n        \"max\": 3,\n        \"num_unique_values\": 2,\n        \"samples\": [\n          3,\n          0\n        ],\n        \"semantic_type\": \"\",\n        \"description\": \"\"\n      }\n    },\n    {\n      \"column\": \"labelled_2021may-ip-10-100-1-105-dns.csv/DnsOpCode\",\n      \"properties\": {\n        \"dtype\": \"number\",\n        \"std\": 0,\n        \"min\": 0,\n        \"max\": 0,\n        \"num_unique_values\": 1,\n        \"samples\": [\n          0\n        ],\n        \"semantic_type\": \"\",\n        \"description\": \"\"\n      }\n    },\n    {\n      \"column\": \"labelled_2021may-ip-10-100-1-105-dns.csv/SensorId\",\n      \"properties\": {\n        \"dtype\": \"category\",\n        \"num_unique_values\": 5,\n        \"samples\": [\n          \"b'ip-10-100-1-186'\"\n        ],\n        \"semantic_type\": \"\",\n        \"description\": \"\"\n      }\n    },\n    {\n      \"column\": \"labelled_2021may-ip-10-100-1-105-dns.csv/sus\",\n      \"properties\": {\n        \"dtype\": \"number\",\n        \"std\": 0,\n        \"min\": 0,\n        \"max\": 1,\n        \"num_unique_values\": 2,\n        \"samples\": [\n          1\n        ],\n        \"semantic_type\": \"\",\n        \"description\": \"\"\n      }\n    },\n    {\n      \"column\": \"labelled_2021may-ip-10-100-1-105-dns.csv/evil\",\n      \"properties\": {\n        \"dtype\": \"number\",\n        \"std\": 0,\n        \"min\": 0,\n        \"max\": 1,\n        \"num_unique_values\": 2,\n        \"samples\": [\n          1\n        ],\n        \"semantic_type\": \"\",\n        \"description\": \"\"\n      }\n    }\n  ]\n}"
            }
          },
          "metadata": {},
          "execution_count": 5
        }
      ]
    },
    {
      "cell_type": "code",
      "source": [
        "!curl -L -o ~/beth-dataset.zip\\\n",
        "  https://www.kaggle.com/api/v1/datasets/download/katehighnam/beth-dataset\n",
        "\n",
        "!unzip /root/beth-dataset.zip"
      ],
      "metadata": {
        "colab": {
          "base_uri": "https://localhost:8080/"
        },
        "id": "L14xjQyLyo00",
        "outputId": "357bddac-68b1-40d1-e650-fc3cf8fce906"
      },
      "execution_count": 6,
      "outputs": [
        {
          "output_type": "stream",
          "name": "stdout",
          "text": [
            "  % Total    % Received % Xferd  Average Speed   Time    Time     Time  Current\n",
            "                                 Dload  Upload   Total   Spent    Left  Speed\n",
            "  0     0    0     0    0     0      0      0 --:--:-- --:--:-- --:--:--     0\n",
            "100 39.7M  100 39.7M    0     0  72.0M      0 --:--:-- --:--:-- --:--:-- 72.0M\n",
            "Archive:  /root/beth-dataset.zip\n",
            "  inflating: labelled_2021may-ip-10-100-1-105-dns.csv  \n",
            "  inflating: labelled_2021may-ip-10-100-1-105.csv  \n",
            "  inflating: labelled_2021may-ip-10-100-1-186-dns.csv  \n",
            "  inflating: labelled_2021may-ip-10-100-1-186.csv  \n",
            "  inflating: labelled_2021may-ip-10-100-1-26-dns.csv  \n",
            "  inflating: labelled_2021may-ip-10-100-1-26.csv  \n",
            "  inflating: labelled_2021may-ip-10-100-1-4-dns.csv  \n",
            "  inflating: labelled_2021may-ip-10-100-1-4.csv  \n",
            "  inflating: labelled_2021may-ip-10-100-1-95-dns.csv  \n",
            "  inflating: labelled_2021may-ip-10-100-1-95.csv  \n",
            "  inflating: labelled_2021may-ubuntu-dns.csv  \n",
            "  inflating: labelled_2021may-ubuntu.csv  \n",
            "  inflating: labelled_testing_data.csv  \n",
            "  inflating: labelled_training_data.csv  \n",
            "  inflating: labelled_validation_data.csv  \n"
          ]
        }
      ]
    },
    {
      "cell_type": "markdown",
      "source": [
        "## 5. Merge Datasets"
      ],
      "metadata": {
        "id": "EImtfmflytgV"
      }
    },
    {
      "cell_type": "code",
      "source": [
        "csv_files = [\n",
        "    'labelled_2021may-ip-10-100-1-105-dns.csv',\n",
        "    'labelled_2021may-ip-10-100-1-105.csv',\n",
        "    'labelled_2021may-ip-10-100-1-186-dns.csv',\n",
        "    'labelled_2021may-ip-10-100-1-186.csv',\n",
        "    'labelled_2021may-ip-10-100-1-26-dns.csv',\n",
        "    'labelled_2021may-ip-10-100-1-26.csv',\n",
        "    'labelled_2021may-ip-10-100-1-4-dns.csv',\n",
        "    'labelled_2021may-ip-10-100-1-4.csv',\n",
        "    'labelled_2021may-ip-10-100-1-95-dns.csv',\n",
        "    'labelled_2021may-ip-10-100-1-95.csv',\n",
        "    'labelled_2021may-ubuntu-dns.csv',\n",
        "    'labelled_2021may-ubuntu.csv',\n",
        "    'labelled_testing_data.csv',\n",
        "    'labelled_training_data.csv',\n",
        "    'labelled_validation_data.csv'\n",
        "]\n",
        "\n",
        "combined_data = pd.concat([pd.read_csv(file) for file in csv_files], ignore_index=True)\n",
        "\n",
        "combined_data.to_csv('combined_dataset.csv', index=False)\n",
        "\n",
        "print(f\"Combined dataset shape: {combined_data.shape}\")\n",
        "print(combined_data.head())\n"
      ],
      "metadata": {
        "colab": {
          "base_uri": "https://localhost:8080/"
        },
        "id": "i3U9SU1iyvL3",
        "outputId": "74b56aa6-a94f-43ca-c81c-fc35f290e1da"
      },
      "execution_count": 7,
      "outputs": [
        {
          "output_type": "stream",
          "name": "stdout",
          "text": [
            "Combined dataset shape: (3808810, 29)\n",
            "              Timestamp      SourceIP DestinationIP  \\\n",
            "0  2021-05-16T17:13:14Z   10.100.1.95    10.100.0.2   \n",
            "1  2021-05-16T17:13:14Z    10.100.0.2   10.100.1.95   \n",
            "2  2021-05-16T17:13:14Z   10.100.1.95    10.100.0.2   \n",
            "3  2021-05-16T17:13:14Z    10.100.0.2   10.100.1.95   \n",
            "4  2021-05-16T17:13:16Z  10.100.1.186    10.100.0.2   \n",
            "\n",
            "                      DnsQuery         DnsAnswer DnsAnswerTTL  \\\n",
            "0  ssm.us-east-2.amazonaws.com               NaN          NaN   \n",
            "1  ssm.us-east-2.amazonaws.com  ['52.95.19.240']       ['17']   \n",
            "2  ssm.us-east-2.amazonaws.com               NaN          NaN   \n",
            "3  ssm.us-east-2.amazonaws.com               NaN          NaN   \n",
            "4  ssm.us-east-2.amazonaws.com               NaN          NaN   \n",
            "\n",
            "                 DnsQueryNames DnsQueryClass DnsQueryType  NumberOfAnswers  \\\n",
            "0  ssm.us-east-2.amazonaws.com        ['IN']        ['A']              0.0   \n",
            "1  ssm.us-east-2.amazonaws.com        ['IN']        ['A']              1.0   \n",
            "2  ssm.us-east-2.amazonaws.com        ['IN']     ['AAAA']              0.0   \n",
            "3  ssm.us-east-2.amazonaws.com        ['IN']     ['AAAA']              0.0   \n",
            "4  ssm.us-east-2.amazonaws.com        ['IN']        ['A']              0.0   \n",
            "\n",
            "   ...  processName  hostName eventId  eventName  argsNum  returnValue  args  \\\n",
            "0  ...          NaN       NaN     NaN        NaN      NaN          NaN   NaN   \n",
            "1  ...          NaN       NaN     NaN        NaN      NaN          NaN   NaN   \n",
            "2  ...          NaN       NaN     NaN        NaN      NaN          NaN   NaN   \n",
            "3  ...          NaN       NaN     NaN        NaN      NaN          NaN   NaN   \n",
            "4  ...          NaN       NaN     NaN        NaN      NaN          NaN   NaN   \n",
            "\n",
            "   threadId  mountNamespace stackAddresses  \n",
            "0       NaN             NaN            NaN  \n",
            "1       NaN             NaN            NaN  \n",
            "2       NaN             NaN            NaN  \n",
            "3       NaN             NaN            NaN  \n",
            "4       NaN             NaN            NaN  \n",
            "\n",
            "[5 rows x 29 columns]\n"
          ]
        }
      ]
    },
    {
      "cell_type": "markdown",
      "source": [
        "## 6. Dataset Summary, Info, Description"
      ],
      "metadata": {
        "id": "ljABd2oKyzNj"
      }
    },
    {
      "cell_type": "code",
      "source": [
        "df = pd.read_csv(\"combined_dataset.csv\")\n",
        "print(df.head())\n",
        "print(df.info())\n",
        "print(df.describe())\n"
      ],
      "metadata": {
        "colab": {
          "base_uri": "https://localhost:8080/"
        },
        "id": "DnEKDWyzy3dP",
        "outputId": "1eacbff9-c6a8-4099-b32e-337581da794d"
      },
      "execution_count": 8,
      "outputs": [
        {
          "output_type": "stream",
          "name": "stderr",
          "text": [
            "<ipython-input-8-d891aa00041c>:1: DtypeWarning: Columns (0,1,2,3,4,5,6,7,8,12,28) have mixed types. Specify dtype option on import or set low_memory=False.\n",
            "  df = pd.read_csv(\"combined_dataset.csv\")\n"
          ]
        },
        {
          "output_type": "stream",
          "name": "stdout",
          "text": [
            "              Timestamp      SourceIP DestinationIP  \\\n",
            "0  2021-05-16T17:13:14Z   10.100.1.95    10.100.0.2   \n",
            "1  2021-05-16T17:13:14Z    10.100.0.2   10.100.1.95   \n",
            "2  2021-05-16T17:13:14Z   10.100.1.95    10.100.0.2   \n",
            "3  2021-05-16T17:13:14Z    10.100.0.2   10.100.1.95   \n",
            "4  2021-05-16T17:13:16Z  10.100.1.186    10.100.0.2   \n",
            "\n",
            "                      DnsQuery         DnsAnswer DnsAnswerTTL  \\\n",
            "0  ssm.us-east-2.amazonaws.com               NaN          NaN   \n",
            "1  ssm.us-east-2.amazonaws.com  ['52.95.19.240']       ['17']   \n",
            "2  ssm.us-east-2.amazonaws.com               NaN          NaN   \n",
            "3  ssm.us-east-2.amazonaws.com               NaN          NaN   \n",
            "4  ssm.us-east-2.amazonaws.com               NaN          NaN   \n",
            "\n",
            "                 DnsQueryNames DnsQueryClass DnsQueryType  NumberOfAnswers  \\\n",
            "0  ssm.us-east-2.amazonaws.com        ['IN']        ['A']              0.0   \n",
            "1  ssm.us-east-2.amazonaws.com        ['IN']        ['A']              1.0   \n",
            "2  ssm.us-east-2.amazonaws.com        ['IN']     ['AAAA']              0.0   \n",
            "3  ssm.us-east-2.amazonaws.com        ['IN']     ['AAAA']              0.0   \n",
            "4  ssm.us-east-2.amazonaws.com        ['IN']        ['A']              0.0   \n",
            "\n",
            "   ...  processName  hostName eventId  eventName  argsNum  returnValue  args  \\\n",
            "0  ...          NaN       NaN     NaN        NaN      NaN          NaN   NaN   \n",
            "1  ...          NaN       NaN     NaN        NaN      NaN          NaN   NaN   \n",
            "2  ...          NaN       NaN     NaN        NaN      NaN          NaN   NaN   \n",
            "3  ...          NaN       NaN     NaN        NaN      NaN          NaN   NaN   \n",
            "4  ...          NaN       NaN     NaN        NaN      NaN          NaN   NaN   \n",
            "\n",
            "   threadId  mountNamespace stackAddresses  \n",
            "0       NaN             NaN            NaN  \n",
            "1       NaN             NaN            NaN  \n",
            "2       NaN             NaN            NaN  \n",
            "3       NaN             NaN            NaN  \n",
            "4       NaN             NaN            NaN  \n",
            "\n",
            "[5 rows x 29 columns]\n",
            "<class 'pandas.core.frame.DataFrame'>\n",
            "RangeIndex: 3808810 entries, 0 to 3808809\n",
            "Data columns (total 29 columns):\n",
            " #   Column           Dtype  \n",
            "---  ------           -----  \n",
            " 0   Timestamp        object \n",
            " 1   SourceIP         object \n",
            " 2   DestinationIP    object \n",
            " 3   DnsQuery         object \n",
            " 4   DnsAnswer        object \n",
            " 5   DnsAnswerTTL     object \n",
            " 6   DnsQueryNames    object \n",
            " 7   DnsQueryClass    object \n",
            " 8   DnsQueryType     object \n",
            " 9   NumberOfAnswers  float64\n",
            " 10  DnsResponseCode  float64\n",
            " 11  DnsOpCode        float64\n",
            " 12  SensorId         object \n",
            " 13  sus              int64  \n",
            " 14  evil             int64  \n",
            " 15  timestamp        float64\n",
            " 16  processId        float64\n",
            " 17  parentProcessId  float64\n",
            " 18  userId           float64\n",
            " 19  processName      object \n",
            " 20  hostName         object \n",
            " 21  eventId          float64\n",
            " 22  eventName        object \n",
            " 23  argsNum          float64\n",
            " 24  returnValue      float64\n",
            " 25  args             object \n",
            " 26  threadId         float64\n",
            " 27  mountNamespace   float64\n",
            " 28  stackAddresses   object \n",
            "dtypes: float64(12), int64(2), object(15)\n",
            "memory usage: 842.7+ MB\n",
            "None\n",
            "       NumberOfAnswers  DnsResponseCode  DnsOpCode           sus  \\\n",
            "count      1614.000000      1614.000000     1614.0  3.808810e+06   \n",
            "mean          0.327138         0.066914        0.0  1.197025e-01   \n",
            "std           0.816473         0.443156        0.0  3.246133e-01   \n",
            "min           0.000000         0.000000        0.0  0.000000e+00   \n",
            "25%           0.000000         0.000000        0.0  0.000000e+00   \n",
            "50%           0.000000         0.000000        0.0  0.000000e+00   \n",
            "75%           0.000000         0.000000        0.0  0.000000e+00   \n",
            "max           8.000000         3.000000        0.0  1.000000e+00   \n",
            "\n",
            "               evil     timestamp     processId  parentProcessId  \\\n",
            "count  3.808810e+06  3.807196e+06  3.807196e+06     3.807196e+06   \n",
            "mean   4.422930e-02  6.962757e+03  6.958577e+03     3.081929e+03   \n",
            "std    2.056042e-01  5.750655e+03  2.213023e+03     3.075620e+03   \n",
            "min    0.000000e+00  1.237460e+02  1.000000e+00     0.000000e+00   \n",
            "25%    0.000000e+00  1.392407e+03  7.354000e+03     1.197000e+03   \n",
            "50%    0.000000e+00  5.597048e+03  7.522000e+03     1.341000e+03   \n",
            "75%    0.000000e+00  1.237105e+04  7.780000e+03     7.096000e+03   \n",
            "max    1.000000e+00  1.888721e+04  8.910000e+03     8.908000e+03   \n",
            "\n",
            "             userId       eventId       argsNum   returnValue      threadId  \\\n",
            "count  3.807196e+06  3.807196e+06  3.807196e+06  3.807196e+06  1.141078e+06   \n",
            "mean   4.785042e+01  2.990449e+02  2.707411e+00  1.494551e+01  6.913038e+03   \n",
            "std    2.101564e+02  3.936397e+02  1.315795e+00  3.574574e+02  1.807393e+03   \n",
            "min    0.000000e+00  2.000000e+00  0.000000e+00 -1.150000e+02  1.000000e+00   \n",
            "25%    0.000000e+00  3.000000e+00  1.000000e+00  0.000000e+00  7.301000e+03   \n",
            "50%    0.000000e+00  5.900000e+01  3.000000e+00  0.000000e+00  7.366000e+03   \n",
            "75%    0.000000e+00  2.570000e+02  4.000000e+00  3.000000e+00  7.461000e+03   \n",
            "max    1.001000e+03  1.010000e+03  5.000000e+00  3.276800e+04  8.619000e+03   \n",
            "\n",
            "       mountNamespace  \n",
            "count    1.141078e+06  \n",
            "mean     4.026532e+09  \n",
            "std      1.726697e+02  \n",
            "min      4.026532e+09  \n",
            "25%      4.026532e+09  \n",
            "50%      4.026532e+09  \n",
            "75%      4.026532e+09  \n",
            "max      4.026532e+09  \n"
          ]
        }
      ]
    },
    {
      "cell_type": "markdown",
      "source": [
        "## 7. Handle Missing Values"
      ],
      "metadata": {
        "id": "IoI_ewAmy8uH"
      }
    },
    {
      "cell_type": "code",
      "source": [
        "df2 = pd.read_csv(\"combined_dataset.csv\")\n",
        "\n",
        "missing_values = df2.isnull().sum()\n",
        "print(\"missing values\")\n",
        "print(missing_values[missing_values > 0])\n",
        "\n",
        "threshold = 0.6 * len(df2)\n",
        "df2 = df2.dropna(thresh=threshold, axis=1)\n",
        "\n",
        "df2.fillna(df2.median(numeric_only=True), inplace=True)\n",
        "\n",
        "df2.fillna(\"Unknown\", inplace=True)\n",
        "\n",
        "print(\"verify\")\n",
        "print(df2.isnull().sum())"
      ],
      "metadata": {
        "colab": {
          "base_uri": "https://localhost:8080/"
        },
        "id": "eiLJmWFVzAfQ",
        "outputId": "1914fe9d-4839-46a3-b732-5e1d6a19edad"
      },
      "execution_count": 9,
      "outputs": [
        {
          "output_type": "stream",
          "name": "stderr",
          "text": [
            "<ipython-input-9-8f36dce0b5b9>:1: DtypeWarning: Columns (0,1,2,3,4,5,6,7,8,12,28) have mixed types. Specify dtype option on import or set low_memory=False.\n",
            "  df2 = pd.read_csv(\"combined_dataset.csv\")\n"
          ]
        },
        {
          "output_type": "stream",
          "name": "stdout",
          "text": [
            "missing values\n",
            "Timestamp          3807196\n",
            "SourceIP           3807196\n",
            "DestinationIP      3807196\n",
            "DnsQuery           3807196\n",
            "DnsAnswer          3808420\n",
            "DnsAnswerTTL       3808420\n",
            "DnsQueryNames      3807196\n",
            "DnsQueryClass      3807196\n",
            "DnsQueryType       3807196\n",
            "NumberOfAnswers    3807196\n",
            "DnsResponseCode    3807196\n",
            "DnsOpCode          3807196\n",
            "SensorId           3807196\n",
            "timestamp             1614\n",
            "processId             1614\n",
            "parentProcessId       1614\n",
            "userId                1614\n",
            "processName           1614\n",
            "hostName              1614\n",
            "eventId               1614\n",
            "eventName             1614\n",
            "argsNum               1614\n",
            "returnValue           1614\n",
            "args                  1614\n",
            "threadId           2667732\n",
            "mountNamespace     2667732\n",
            "stackAddresses     2667732\n",
            "dtype: int64\n",
            "verify\n",
            "sus                0\n",
            "evil               0\n",
            "timestamp          0\n",
            "processId          0\n",
            "parentProcessId    0\n",
            "userId             0\n",
            "processName        0\n",
            "hostName           0\n",
            "eventId            0\n",
            "eventName          0\n",
            "argsNum            0\n",
            "returnValue        0\n",
            "args               0\n",
            "dtype: int64\n"
          ]
        }
      ]
    },
    {
      "cell_type": "markdown",
      "source": [
        "## 8. Preprocessing - Classify Columns"
      ],
      "metadata": {
        "id": "eC2g3VWszE_2"
      }
    },
    {
      "cell_type": "code",
      "source": [
        "def auto_classify_columns(data):\n",
        "    categorical_columns = []\n",
        "    numerical_columns = []\n",
        "\n",
        "    for col in data.columns:\n",
        "        if data[col].dtype == 'object':\n",
        "            unique_vals = data[col].nunique()\n",
        "            if unique_vals < 0.1 * len(data):\n",
        "                categorical_columns.append(col)\n",
        "            else:\n",
        "                try:\n",
        "                    data[col] = pd.to_numeric(data[col], errors='raise')\n",
        "                    numerical_columns.append(col)\n",
        "                except:\n",
        "                    categorical_columns.append(col)\n",
        "        else:\n",
        "            numerical_columns.append(col)\n",
        "\n",
        "    return categorical_columns, numerical_columns\n",
        "\n",
        "categorical_columns, numerical_columns = auto_classify_columns(combined_data)\n",
        "\n",
        "print(\"Categorical columns:\", categorical_columns)\n",
        "print(\"Numerical columns:\", numerical_columns)"
      ],
      "metadata": {
        "colab": {
          "base_uri": "https://localhost:8080/"
        },
        "id": "u8ZuEWsMzKyv",
        "outputId": "90d9bce5-d4b3-4d52-9dcb-966bf6b4e2da"
      },
      "execution_count": 10,
      "outputs": [
        {
          "output_type": "stream",
          "name": "stdout",
          "text": [
            "Categorical columns: ['Timestamp', 'SourceIP', 'DestinationIP', 'DnsQuery', 'DnsAnswer', 'DnsAnswerTTL', 'DnsQueryNames', 'DnsQueryClass', 'DnsQueryType', 'SensorId', 'processName', 'hostName', 'eventName', 'args', 'stackAddresses']\n",
            "Numerical columns: ['NumberOfAnswers', 'DnsResponseCode', 'DnsOpCode', 'sus', 'evil', 'timestamp', 'processId', 'parentProcessId', 'userId', 'eventId', 'argsNum', 'returnValue', 'threadId', 'mountNamespace']\n"
          ]
        }
      ]
    },
    {
      "cell_type": "markdown",
      "source": [
        "## 9. Preprocessing - Encoding and Feature Selection"
      ],
      "metadata": {
        "id": "niC9bQFHzUf-"
      }
    },
    {
      "cell_type": "code",
      "source": [
        "label_encoder = LabelEncoder()\n",
        "for col in categorical_columns:\n",
        "    combined_data[col] = label_encoder.fit_transform(combined_data[col])\n",
        "\n",
        "X = combined_data.drop(columns=['evil', 'stackAddresses', 'args', 'argsNum', 'returnValue'])\n",
        "y = combined_data['evil']"
      ],
      "metadata": {
        "id": "AG7PBNnrzZbs"
      },
      "execution_count": 11,
      "outputs": []
    },
    {
      "cell_type": "markdown",
      "source": [
        "## 10. Preprocessing - Handle Missing and Infinite Values"
      ],
      "metadata": {
        "id": "kAccDae3zcUl"
      }
    },
    {
      "cell_type": "code",
      "source": [
        "X = X.replace([np.inf, -np.inf], np.nan)\n",
        "X = X.fillna(0)\n",
        "\n",
        "scaler = StandardScaler()\n",
        "X_scaled = scaler.fit_transform(X)\n",
        "\n",
        "print(\"Shape of X after scaling:\", X_scaled.shape)"
      ],
      "metadata": {
        "colab": {
          "base_uri": "https://localhost:8080/"
        },
        "id": "WaKZzIBpzhRE",
        "outputId": "5b1655b7-6fa7-41ed-b3f4-09b1a772cba8"
      },
      "execution_count": 12,
      "outputs": [
        {
          "output_type": "stream",
          "name": "stdout",
          "text": [
            "Shape of X after scaling: (3808810, 24)\n"
          ]
        }
      ]
    },
    {
      "cell_type": "markdown",
      "source": [
        "## 11. Preprocessing - Data Splitting"
      ],
      "metadata": {
        "id": "sifVrVOZzj3T"
      }
    },
    {
      "cell_type": "code",
      "source": [
        "X_train, X_test, y_train, y_test = train_test_split(X_scaled, y, test_size=0.2, random_state=42, stratify=y)"
      ],
      "metadata": {
        "id": "g7_BipDpzn58"
      },
      "execution_count": 13,
      "outputs": []
    },
    {
      "cell_type": "markdown",
      "source": [
        "## 12. Train Random Forest"
      ],
      "metadata": {
        "id": "BDj6PgkKzvks"
      }
    },
    {
      "cell_type": "markdown",
      "source": [
        "### Scalers"
      ],
      "metadata": {
        "id": "kgEavgzvz5u3"
      }
    },
    {
      "cell_type": "code",
      "source": [
        "# MinMax Scaling (0 to 1)\n",
        "minmax_scaler = MinMaxScaler()\n",
        "X_train_minmax = minmax_scaler.fit_transform(X_train)\n",
        "X_test_minmax = minmax_scaler.transform(X_test)\n",
        "\n",
        "# Standard Scaling (Z-score normalization)\n",
        "standard_scaler = StandardScaler()\n",
        "X_train_standard = standard_scaler.fit_transform(X_train)\n",
        "X_test_standard = standard_scaler.transform(X_test)"
      ],
      "metadata": {
        "id": "h8x0vD-Gz8Ht"
      },
      "execution_count": 14,
      "outputs": []
    },
    {
      "cell_type": "markdown",
      "source": [
        "### Training - On Scaled Versions"
      ],
      "metadata": {
        "id": "cxKq15vnz9S6"
      }
    },
    {
      "cell_type": "code",
      "source": [
        "rf_minmax = RandomForestClassifier(random_state=42)\n",
        "rf_standard = RandomForestClassifier(random_state=42)\n",
        "\n",
        "rf_minmax.fit(X_train_minmax, y_train)\n",
        "rf_standard.fit(X_train_standard, y_train)\n",
        "\n",
        "# Make predictions\n",
        "y_pred_minmax = rf_minmax.predict(X_test_minmax)\n",
        "y_pred_standard = rf_standard.predict(X_test_standard)\n",
        "\n",
        "# Evaluate Performance\n",
        "metrics = ['Accuracy', 'Precision', 'Recall', 'F1-score']\n",
        "results = {\n",
        "    \"MinMax Scaling\": [\n",
        "        accuracy_score(y_test, y_pred_minmax),\n",
        "        precision_score(y_test, y_pred_minmax),\n",
        "        recall_score(y_test, y_pred_minmax),\n",
        "        f1_score(y_test, y_pred_minmax),\n",
        "    ],\n",
        "    \"Z-score Normalization\": [\n",
        "        accuracy_score(y_test, y_pred_standard),\n",
        "        precision_score(y_test, y_pred_standard),\n",
        "        recall_score(y_test, y_pred_standard),\n",
        "        f1_score(y_test, y_pred_standard),\n",
        "    ]\n",
        "}\n",
        "\n",
        "# Convert results to DataFrame for readability\n",
        "results_df = pd.DataFrame(results, index=metrics)\n",
        "print(results_df)"
      ],
      "metadata": {
        "colab": {
          "base_uri": "https://localhost:8080/"
        },
        "id": "R_Q4AyUjzyIT",
        "outputId": "7f57f765-36ad-41da-ba6b-382bb3297f8c"
      },
      "execution_count": 15,
      "outputs": [
        {
          "output_type": "stream",
          "name": "stdout",
          "text": [
            "           MinMax Scaling  Z-score Normalization\n",
            "Accuracy         0.999999               0.999999\n",
            "Precision        1.000000               1.000000\n",
            "Recall           0.999970               0.999970\n",
            "F1-score         0.999985               0.999985\n"
          ]
        }
      ]
    },
    {
      "cell_type": "markdown",
      "source": [
        "### Calibration"
      ],
      "metadata": {
        "id": "hkN_lTRt0KFn"
      }
    },
    {
      "cell_type": "code",
      "source": [
        "y_prob_minmax = rf_minmax.predict_proba(X_test_minmax)[:, 1]\n",
        "y_prob_standard = rf_standard.predict_proba(X_test_standard)[:, 1]\n",
        "\n",
        "fraction_of_positives_minmax, mean_predicted_value_minmax = calibration_curve(y_test, y_prob_minmax, n_bins=10)\n",
        "fraction_of_positives_standard, mean_predicted_value_standard = calibration_curve(y_test, y_prob_standard, n_bins=10)\n",
        "\n",
        "plt.figure(figsize=(8, 6))\n",
        "plt.plot(mean_predicted_value_minmax, fraction_of_positives_minmax, marker='o', linestyle='-', label='MinMax Scaling')\n",
        "plt.plot(mean_predicted_value_standard, fraction_of_positives_standard, marker='o', linestyle='-', label='Z-score Normalization')\n",
        "plt.plot([0, 1], [0, 1], linestyle='--', color='gray', label='Perfect Calibration')\n",
        "plt.xlabel('Mean Predicted Probability')\n",
        "plt.ylabel('Fraction of Positives')\n",
        "plt.title('Calibration Curves for Random Forest Classifier')\n",
        "plt.legend()\n",
        "plt.show()"
      ],
      "metadata": {
        "colab": {
          "base_uri": "https://localhost:8080/",
          "height": 564
        },
        "id": "kQDeWNyZ0LrA",
        "outputId": "89cbf1ea-c03c-4617-e7df-a3ad76a68d00"
      },
      "execution_count": 18,
      "outputs": [
        {
          "output_type": "display_data",
          "data": {
            "text/plain": [
              "<Figure size 800x600 with 1 Axes>"
            ],
            "image/png": "[encoded data removed]"
          },
          "metadata": {}
        }
      ]
    },
    {
      "cell_type": "markdown",
      "source": [
        "## 13. Confusion Matrix"
      ],
      "metadata": {
        "id": "FY_wV1qP0QJx"
      }
    },
    {
      "cell_type": "code",
      "source": [
        "fig, axes = plt.subplots(1, 2, figsize=(12, 5))\n",
        "\n",
        "# MinMax Scaling\n",
        "cm_minmax = confusion_matrix(y_test, y_pred_minmax)\n",
        "sns.heatmap(cm_minmax, annot=True, fmt=\"d\", cmap=\"Blues\", ax=axes[0])\n",
        "axes[0].set_title(\"Confusion Matrix (MinMax Scaling)\")\n",
        "axes[0].set_xlabel(\"Predicted\")\n",
        "axes[0].set_ylabel(\"Actual\")\n",
        "\n",
        "# Z-score Normalization\n",
        "cm_standard = confusion_matrix(y_test, y_pred_standard)\n",
        "sns.heatmap(cm_standard, annot=True, fmt=\"d\", cmap=\"Blues\", ax=axes[1])\n",
        "axes[1].set_title(\"Confusion Matrix (Z-score Normalization)\")\n",
        "axes[1].set_xlabel(\"Predicted\")\n",
        "axes[1].set_ylabel(\"Actual\")\n",
        "\n",
        "plt.show()"
      ],
      "metadata": {
        "colab": {
          "base_uri": "https://localhost:8080/",
          "height": 487
        },
        "id": "umhlQgmG0VGY",
        "outputId": "21ce9c50-8cbd-410c-8991-601c87c49215"
      },
      "execution_count": 19,
      "outputs": [
        {
          "output_type": "display_data",
          "data": {
            "text/plain": [
              "<Figure size 1200x500 with 4 Axes>"
            ],
            "image/png": "[encoded data removed]"
          },
          "metadata": {}
        }
      ]
    },
    {
      "cell_type": "markdown",
      "source": [
        "## 14. ROC Curve"
      ],
      "metadata": {
        "id": "cMYjgv3o0iWe"
      }
    },
    {
      "cell_type": "code",
      "source": [
        "fig, ax = plt.subplots(figsize=(6,6))\n",
        "\n",
        "# MinMax Scaling\n",
        "y_prob_minmax = rf_minmax.predict_proba(X_test_minmax)[:, 1]\n",
        "fpr_minmax, tpr_minmax, _ = roc_curve(y_test, y_prob_minmax)\n",
        "roc_auc_minmax = auc(fpr_minmax, tpr_minmax)\n",
        "ax.plot(fpr_minmax, tpr_minmax, label=f\"MinMax Scaling (AUC={roc_auc_minmax:.4f})\", color=\"blue\")\n",
        "\n",
        "# Z-score Normalization\n",
        "y_prob_standard = rf_standard.predict_proba(X_test_standard)[:, 1]\n",
        "fpr_standard, tpr_standard, _ = roc_curve(y_test, y_prob_standard)\n",
        "roc_auc_standard = auc(fpr_standard, tpr_standard)\n",
        "ax.plot(fpr_standard, tpr_standard, label=f\"Z-score Normalization (AUC={roc_auc_standard:.4f})\", color=\"green\")\n",
        "\n",
        "# Random Guess Line\n",
        "ax.plot([0, 1], [0, 1], color=\"gray\", linestyle=\"--\")\n",
        "\n",
        "ax.set_xlabel(\"False Positive Rate\")\n",
        "ax.set_ylabel(\"True Positive Rate\")\n",
        "ax.set_title(\"ROC Curve Comparison\")\n",
        "ax.legend(loc=\"lower right\")\n",
        "plt.show()\n"
      ],
      "metadata": {
        "colab": {
          "base_uri": "https://localhost:8080/",
          "height": 564
        },
        "id": "sNwAsk5u0kZz",
        "outputId": "73c5848f-2c38-4a2e-bb34-d8c636fc3ed8"
      },
      "execution_count": 20,
      "outputs": [
        {
          "output_type": "display_data",
          "data": {
            "text/plain": [
              "<Figure size 600x600 with 1 Axes>"
            ],
            "image/png": "[encoded data removed]"
          },
          "metadata": {}
        }
      ]
    },
    {
      "cell_type": "markdown",
      "source": [
        "## 15. Precision Recall"
      ],
      "metadata": {
        "id": "9lR7Fayi0nqn"
      }
    },
    {
      "cell_type": "code",
      "source": [
        "fig, ax = plt.subplots(figsize=(6,6))\n",
        "\n",
        "# MinMax Scaling\n",
        "precision_minmax, recall_minmax, _ = precision_recall_curve(y_test, y_prob_minmax)\n",
        "pr_auc_minmax = auc(recall_minmax, precision_minmax)\n",
        "ax.plot(recall_minmax, precision_minmax, label=f\"MinMax Scaling (AUC={pr_auc_minmax:.4f})\", color=\"blue\")\n",
        "\n",
        "# Z-score Normalization\n",
        "precision_standard, recall_standard, _ = precision_recall_curve(y_test, y_prob_standard)\n",
        "pr_auc_standard = auc(recall_standard, precision_standard)\n",
        "ax.plot(recall_standard, precision_standard, label=f\"Z-score Normalization (AUC={pr_auc_standard:.4f})\", color=\"green\")\n",
        "\n",
        "ax.set_xlabel(\"Recall\")\n",
        "ax.set_ylabel(\"Precision\")\n",
        "ax.set_title(\"Precision-Recall Curve Comparison\")\n",
        "ax.legend(loc=\"lower left\")\n",
        "plt.show()\n"
      ],
      "metadata": {
        "colab": {
          "base_uri": "https://localhost:8080/",
          "height": 564
        },
        "id": "1hxbNV2g0pn9",
        "outputId": "dc25ad31-bde0-464a-c7f5-b995b2b51b83"
      },
      "execution_count": 21,
      "outputs": [
        {
          "output_type": "display_data",
          "data": {
            "text/plain": [
              "<Figure size 600x600 with 1 Axes>"
            ],
            "image/png": "[encoded data removed]"
          },
          "metadata": {}
        }
      ]
    },
    {
      "cell_type": "markdown",
      "source": [
        "## 16. Residuals"
      ],
      "metadata": {
        "id": "K4C8sWvu0tow"
      }
    },
    {
      "cell_type": "code",
      "source": [
        "fig, axes = plt.subplots(1, 2, figsize=(12, 5))\n",
        "\n",
        "# MinMax Scaling\n",
        "residuals_minmax = y_test - y_prob_minmax\n",
        "axes[0].scatter(y_prob_minmax, residuals_minmax, alpha=0.5, color=\"blue\")\n",
        "axes[0].axhline(y=0, color='red', linestyle='--')\n",
        "axes[0].set_title(\"Residual Plot (MinMax Scaling)\")\n",
        "axes[0].set_xlabel(\"Predicted Probability\")\n",
        "axes[0].set_ylabel(\"Residuals\")\n",
        "\n",
        "# Z-score Normalization\n",
        "residuals_standard = y_test - y_prob_standard\n",
        "axes[1].scatter(y_prob_standard, residuals_standard, alpha=0.5, color=\"green\")\n",
        "axes[1].axhline(y=0, color='red', linestyle='--')\n",
        "axes[1].set_title(\"Residual Plot (Z-score Normalization)\")\n",
        "axes[1].set_xlabel(\"Predicted Probability\")\n",
        "axes[1].set_ylabel(\"Residuals\")\n",
        "\n",
        "plt.show()"
      ],
      "metadata": {
        "colab": {
          "base_uri": "https://localhost:8080/",
          "height": 487
        },
        "id": "HQXCFBWZ0wGP",
        "outputId": "b31f1397-7c8c-4301-a656-0500d6af2d2a"
      },
      "execution_count": 22,
      "outputs": [
        {
          "output_type": "display_data",
          "data": {
            "text/plain": [
              "<Figure size 1200x500 with 2 Axes>"
            ],
            "image/png": "[encoded data removed]"
          },
          "metadata": {}
        }
      ]
    },
    {
      "cell_type": "markdown",
      "source": [
        "## 17. Save Trained Models"
      ],
      "metadata": {
        "id": "xmEJK2Qd0-8l"
      }
    },
    {
      "cell_type": "code",
      "source": [
        "joblib.dump(rf_minmax, \"random_forest_minmax.pkl\")\n",
        "joblib.dump(rf_standard, \"random_forest_standard.pkl\")"
      ],
      "metadata": {
        "colab": {
          "base_uri": "https://localhost:8080/"
        },
        "id": "gs0Mi98i1B4k",
        "outputId": "a68b20ec-8b20-42f3-eb91-8b6995a1cd40"
      },
      "execution_count": 23,
      "outputs": [
        {
          "output_type": "execute_result",
          "data": {
            "text/plain": [
              "['random_forest_standard.pkl']"
            ]
          },
          "metadata": {},
          "execution_count": 23
        }
      ]
    }
  ]
}